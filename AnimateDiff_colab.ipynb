{
  "cells": [
    {
      "cell_type": "markdown",
      "metadata": {
        "id": "view-in-github",
        "colab_type": "text"
      },
      "source": [
        "<a href=\"https://colab.research.google.com/github/prabhkaur119/notebooks/blob/main/AnimateDiff_colab.ipynb\" target=\"_parent\"><img src=\"https://colab.research.google.com/assets/colab-badge.svg\" alt=\"Open In Colab\"/></a>"
      ]
    },
    {
      "cell_type": "code",
      "execution_count": null,
      "metadata": {
        "id": "kVa8vUMBbyAx"
      },
      "outputs": [],
      "source": [
        "# 1. Install dependencies\n",
        "!pip install -q torch==2.0.1+cu118 torchvision==0.15.2+cu118 --extra-index-url https://download.pytorch.org/whl/cu118\n",
        "!pip install -q xformers==0.0.20 diffusers==0.21.4 transformers einops omegaconf"
      ]
    },
    {
      "cell_type": "code",
      "source": [
        "# 2. Clone and setup AnimateDiff\n",
        "!git clone https://github.com/guoyww/AnimateDiff.git\n",
        "%cd AnimateDiff\n",
        "!mkdir -p models/Motion_Module\n",
        "!mkdir -p models/DreamBooth_LoRA\n"
      ],
      "metadata": {
        "id": "Ax4dufgt2xbf"
      },
      "execution_count": null,
      "outputs": []
    },
    {
      "cell_type": "code",
      "source": [
        "# 3. Download models\n",
        "!aria2c --console-log-level=error -c -x 16 -s 16 -k 1M https://huggingface.co/guoyww/animatediff/resolve/main/mm_sd_v15_v2.ckpt -d models/Motion_Module -o mm_sd_v15_v2.ckpt\n",
        "!aria2c --console-log-level=error -c -x 16 -s 16 -k 1M https://huggingface.co/runwayml/stable-diffusion-v1-5/resolve/main/v1-5-pruned-emaonly.safetensors -d models/DreamBooth_LoRA -o v1-5-pruned-emaonly.safetensors\n"
      ],
      "metadata": {
        "id": "9Ci5TXiP2yR6"
      },
      "execution_count": null,
      "outputs": []
    },
    {
      "cell_type": "code",
      "source": [
        "# 4. Create folders and fix filenames\n",
        "!mkdir -p input_images\n",
        "!mkdir -p output_videos"
      ],
      "metadata": {
        "id": "JXUA95M9245t"
      },
      "execution_count": null,
      "outputs": []
    },
    {
      "cell_type": "code",
      "source": [
        "# 5. Upload and rename images (removes parentheses)\n",
        "from google.colab import files\n",
        "from PIL import Image\n",
        "import os\n",
        "import re\n",
        "\n",
        "uploaded = files.upload()\n",
        "for filename in uploaded.keys():\n",
        "    # Remove (1), (2) etc from filenames\n",
        "    clean_name = re.sub(r'\\(\\d+\\)', '', filename).replace(' ', '_')\n",
        "    img = Image.open(filename)\n",
        "    img = img.resize((512, 512))\n",
        "    img.save(f\"input_images/{clean_name}\")\n",
        "    os.remove(filename)  # Clean up original"
      ],
      "metadata": {
        "id": "FFBxeFwr3B6y"
      },
      "execution_count": null,
      "outputs": []
    },
    {
      "cell_type": "code",
      "execution_count": null,
      "metadata": {
        "id": "jTDVp9Cfb5rN"
      },
      "outputs": [],
      "source": [
        "# 6. Process images using absolute paths\n",
        "for img_file in os.listdir(\"input_images\"):\n",
        "    if img_file.lower().endswith(('.png', '.jpg', '.jpeg')):\n",
        "        !python -m animatediff.scripts.animate \\\n",
        "            --config configs/prompts/v2/5-RealisticVision.yaml \\\n",
        "            --image_path \"input_images/{img_file}\" \\\n",
        "            --pretrained_model_path models/DreamBooth_LoRA/v1-5-pruned-emaonly.safetensors \\\n",
        "            --motion_module models/Motion_Module/mm_sd_v15_v2.ckpt \\\n",
        "            --L 16 \\\n",
        "            --output \"output_videos/{os.path.splitext(img_file)[0]}.mp4\""
      ]
    },
    {
      "cell_type": "code",
      "source": [
        "# 7. Process images\n",
        "for img_file in os.listdir(\"/content/AnimateDiff/input_images\"):\n",
        "    !python -m scripts.animate \\\n",
        "        --config /content/AnimateDiff/configs/prompts/v2/5-RealisticVision.yaml \\\n",
        "        --image_path \"/content/AnimateDiff/input_images/{img_file}\" \\\n",
        "        --pretrained_model_path /content/AnimateDiff/models/DreamBooth_LoRA/v1-5-pruned-emaonly.safetensors \\\n",
        "        --motion_module /content/AnimateDiff/models/Motion_Module/mm_sd_v15_v2.ckpt \\\n",
        "        --L 16 \\\n",
        "        --output /content/AnimateDiff/output_videos/{img_file.split('.')[0]}.mp4"
      ],
      "metadata": {
        "id": "1ST65QZW0t0o",
        "outputId": "865641e1-6d78-436a-ab01-84544edfad65",
        "colab": {
          "base_uri": "https://localhost:8080/"
        }
      },
      "execution_count": 5,
      "outputs": [
        {
          "output_type": "stream",
          "name": "stdout",
          "text": [
            "/usr/bin/python3: Error while finding module specification for 'scripts.animate' (ModuleNotFoundError: No module named 'scripts')\n",
            "/bin/bash: -c: line 1: syntax error near unexpected token `('\n",
            "/bin/bash: -c: line 1: `python -m scripts.animate          --config /content/AnimateDiff/configs/prompts/v2/5-RealisticVision.yaml          --image_path \"/content/AnimateDiff/input_images/image_33 (1).png\"          --pretrained_model_path /content/AnimateDiff/models/DreamBooth_LoRA/v1-5-pruned-emaonly.safetensors          --motion_module /content/AnimateDiff/models/Motion_Module/mm_sd_v15_v2.ckpt          --L 16          --output /content/AnimateDiff/output_videos/image_33 (1).mp4'\n",
            "/bin/bash: -c: line 1: syntax error near unexpected token `('\n",
            "/bin/bash: -c: line 1: `python -m scripts.animate          --config /content/AnimateDiff/configs/prompts/v2/5-RealisticVision.yaml          --image_path \"/content/AnimateDiff/input_images/image_19 (1).png\"          --pretrained_model_path /content/AnimateDiff/models/DreamBooth_LoRA/v1-5-pruned-emaonly.safetensors          --motion_module /content/AnimateDiff/models/Motion_Module/mm_sd_v15_v2.ckpt          --L 16          --output /content/AnimateDiff/output_videos/image_19 (1).mp4'\n",
            "/usr/bin/python3: Error while finding module specification for 'scripts.animate' (ModuleNotFoundError: No module named 'scripts')\n",
            "/usr/bin/python3: Error while finding module specification for 'scripts.animate' (ModuleNotFoundError: No module named 'scripts')\n",
            "/usr/bin/python3: Error while finding module specification for 'scripts.animate' (ModuleNotFoundError: No module named 'scripts')\n",
            "/usr/bin/python3: Error while finding module specification for 'scripts.animate' (ModuleNotFoundError: No module named 'scripts')\n",
            "/usr/bin/python3: Error while finding module specification for 'scripts.animate' (ModuleNotFoundError: No module named 'scripts')\n",
            "/bin/bash: -c: line 1: syntax error near unexpected token `('\n",
            "/bin/bash: -c: line 1: `python -m scripts.animate          --config /content/AnimateDiff/configs/prompts/v2/5-RealisticVision.yaml          --image_path \"/content/AnimateDiff/input_images/image_25 (1).png\"          --pretrained_model_path /content/AnimateDiff/models/DreamBooth_LoRA/v1-5-pruned-emaonly.safetensors          --motion_module /content/AnimateDiff/models/Motion_Module/mm_sd_v15_v2.ckpt          --L 16          --output /content/AnimateDiff/output_videos/image_25 (1).mp4'\n",
            "/usr/bin/python3: Error while finding module specification for 'scripts.animate' (ModuleNotFoundError: No module named 'scripts')\n",
            "/usr/bin/python3: Error while finding module specification for 'scripts.animate' (ModuleNotFoundError: No module named 'scripts')\n",
            "/bin/bash: -c: line 1: syntax error near unexpected token `('\n",
            "/bin/bash: -c: line 1: `python -m scripts.animate          --config /content/AnimateDiff/configs/prompts/v2/5-RealisticVision.yaml          --image_path \"/content/AnimateDiff/input_images/image_4 (1).png\"          --pretrained_model_path /content/AnimateDiff/models/DreamBooth_LoRA/v1-5-pruned-emaonly.safetensors          --motion_module /content/AnimateDiff/models/Motion_Module/mm_sd_v15_v2.ckpt          --L 16          --output /content/AnimateDiff/output_videos/image_4 (1).mp4'\n",
            "/usr/bin/python3: Error while finding module specification for 'scripts.animate' (ModuleNotFoundError: No module named 'scripts')\n",
            "/usr/bin/python3: Error while finding module specification for 'scripts.animate' (ModuleNotFoundError: No module named 'scripts')\n",
            "/bin/bash: -c: line 1: syntax error near unexpected token `('\n",
            "/bin/bash: -c: line 1: `python -m scripts.animate          --config /content/AnimateDiff/configs/prompts/v2/5-RealisticVision.yaml          --image_path \"/content/AnimateDiff/input_images/image_21 (1).png\"          --pretrained_model_path /content/AnimateDiff/models/DreamBooth_LoRA/v1-5-pruned-emaonly.safetensors          --motion_module /content/AnimateDiff/models/Motion_Module/mm_sd_v15_v2.ckpt          --L 16          --output /content/AnimateDiff/output_videos/image_21 (1).mp4'\n",
            "/usr/bin/python3: Error while finding module specification for 'scripts.animate' (ModuleNotFoundError: No module named 'scripts')\n",
            "/usr/bin/python3: Error while finding module specification for 'scripts.animate' (ModuleNotFoundError: No module named 'scripts')\n",
            "/usr/bin/python3: Error while finding module specification for 'scripts.animate' (ModuleNotFoundError: No module named 'scripts')\n",
            "/bin/bash: -c: line 1: syntax error near unexpected token `('\n",
            "/bin/bash: -c: line 1: `python -m scripts.animate          --config /content/AnimateDiff/configs/prompts/v2/5-RealisticVision.yaml          --image_path \"/content/AnimateDiff/input_images/image_17 (1).png\"          --pretrained_model_path /content/AnimateDiff/models/DreamBooth_LoRA/v1-5-pruned-emaonly.safetensors          --motion_module /content/AnimateDiff/models/Motion_Module/mm_sd_v15_v2.ckpt          --L 16          --output /content/AnimateDiff/output_videos/image_17 (1).mp4'\n",
            "/usr/bin/python3: Error while finding module specification for 'scripts.animate' (ModuleNotFoundError: No module named 'scripts')\n",
            "/usr/bin/python3: Error while finding module specification for 'scripts.animate' (ModuleNotFoundError: No module named 'scripts')\n",
            "/usr/bin/python3: Error while finding module specification for 'scripts.animate' (ModuleNotFoundError: No module named 'scripts')\n",
            "/usr/bin/python3: Error while finding module specification for 'scripts.animate' (ModuleNotFoundError: No module named 'scripts')\n",
            "/bin/bash: -c: line 1: syntax error near unexpected token `('\n",
            "/bin/bash: -c: line 1: `python -m scripts.animate          --config /content/AnimateDiff/configs/prompts/v2/5-RealisticVision.yaml          --image_path \"/content/AnimateDiff/input_images/image_30 (1).png\"          --pretrained_model_path /content/AnimateDiff/models/DreamBooth_LoRA/v1-5-pruned-emaonly.safetensors          --motion_module /content/AnimateDiff/models/Motion_Module/mm_sd_v15_v2.ckpt          --L 16          --output /content/AnimateDiff/output_videos/image_30 (1).mp4'\n",
            "/usr/bin/python3: Error while finding module specification for 'scripts.animate' (ModuleNotFoundError: No module named 'scripts')\n",
            "/bin/bash: -c: line 1: syntax error near unexpected token `('\n",
            "/bin/bash: -c: line 1: `python -m scripts.animate          --config /content/AnimateDiff/configs/prompts/v2/5-RealisticVision.yaml          --image_path \"/content/AnimateDiff/input_images/image_24 (1).png\"          --pretrained_model_path /content/AnimateDiff/models/DreamBooth_LoRA/v1-5-pruned-emaonly.safetensors          --motion_module /content/AnimateDiff/models/Motion_Module/mm_sd_v15_v2.ckpt          --L 16          --output /content/AnimateDiff/output_videos/image_24 (1).mp4'\n",
            "/bin/bash: -c: line 1: syntax error near unexpected token `('\n",
            "/bin/bash: -c: line 1: `python -m scripts.animate          --config /content/AnimateDiff/configs/prompts/v2/5-RealisticVision.yaml          --image_path \"/content/AnimateDiff/input_images/image_26 (1).png\"          --pretrained_model_path /content/AnimateDiff/models/DreamBooth_LoRA/v1-5-pruned-emaonly.safetensors          --motion_module /content/AnimateDiff/models/Motion_Module/mm_sd_v15_v2.ckpt          --L 16          --output /content/AnimateDiff/output_videos/image_26 (1).mp4'\n",
            "/usr/bin/python3: Error while finding module specification for 'scripts.animate' (ModuleNotFoundError: No module named 'scripts')\n",
            "/bin/bash: -c: line 1: syntax error near unexpected token `('\n",
            "/bin/bash: -c: line 1: `python -m scripts.animate          --config /content/AnimateDiff/configs/prompts/v2/5-RealisticVision.yaml          --image_path \"/content/AnimateDiff/input_images/image_18 (1).png\"          --pretrained_model_path /content/AnimateDiff/models/DreamBooth_LoRA/v1-5-pruned-emaonly.safetensors          --motion_module /content/AnimateDiff/models/Motion_Module/mm_sd_v15_v2.ckpt          --L 16          --output /content/AnimateDiff/output_videos/image_18 (1).mp4'\n",
            "/bin/bash: -c: line 1: syntax error near unexpected token `('\n",
            "/bin/bash: -c: line 1: `python -m scripts.animate          --config /content/AnimateDiff/configs/prompts/v2/5-RealisticVision.yaml          --image_path \"/content/AnimateDiff/input_images/image_5 (1).png\"          --pretrained_model_path /content/AnimateDiff/models/DreamBooth_LoRA/v1-5-pruned-emaonly.safetensors          --motion_module /content/AnimateDiff/models/Motion_Module/mm_sd_v15_v2.ckpt          --L 16          --output /content/AnimateDiff/output_videos/image_5 (1).mp4'\n",
            "/bin/bash: -c: line 1: syntax error near unexpected token `('\n",
            "/bin/bash: -c: line 1: `python -m scripts.animate          --config /content/AnimateDiff/configs/prompts/v2/5-RealisticVision.yaml          --image_path \"/content/AnimateDiff/input_images/image_10 (1).png\"          --pretrained_model_path /content/AnimateDiff/models/DreamBooth_LoRA/v1-5-pruned-emaonly.safetensors          --motion_module /content/AnimateDiff/models/Motion_Module/mm_sd_v15_v2.ckpt          --L 16          --output /content/AnimateDiff/output_videos/image_10 (1).mp4'\n",
            "/usr/bin/python3: Error while finding module specification for 'scripts.animate' (ModuleNotFoundError: No module named 'scripts')\n",
            "/bin/bash: -c: line 1: syntax error near unexpected token `('\n",
            "/bin/bash: -c: line 1: `python -m scripts.animate          --config /content/AnimateDiff/configs/prompts/v2/5-RealisticVision.yaml          --image_path \"/content/AnimateDiff/input_images/image_27 (1).png\"          --pretrained_model_path /content/AnimateDiff/models/DreamBooth_LoRA/v1-5-pruned-emaonly.safetensors          --motion_module /content/AnimateDiff/models/Motion_Module/mm_sd_v15_v2.ckpt          --L 16          --output /content/AnimateDiff/output_videos/image_27 (1).mp4'\n",
            "/usr/bin/python3: Error while finding module specification for 'scripts.animate' (ModuleNotFoundError: No module named 'scripts')\n",
            "/bin/bash: -c: line 1: syntax error near unexpected token `('\n",
            "/bin/bash: -c: line 1: `python -m scripts.animate          --config /content/AnimateDiff/configs/prompts/v2/5-RealisticVision.yaml          --image_path \"/content/AnimateDiff/input_images/image_34 (1).png\"          --pretrained_model_path /content/AnimateDiff/models/DreamBooth_LoRA/v1-5-pruned-emaonly.safetensors          --motion_module /content/AnimateDiff/models/Motion_Module/mm_sd_v15_v2.ckpt          --L 16          --output /content/AnimateDiff/output_videos/image_34 (1).mp4'\n",
            "/usr/bin/python3: Error while finding module specification for 'scripts.animate' (ModuleNotFoundError: No module named 'scripts')\n",
            "/usr/bin/python3: Error while finding module specification for 'scripts.animate' (ModuleNotFoundError: No module named 'scripts')\n",
            "/usr/bin/python3: Error while finding module specification for 'scripts.animate' (ModuleNotFoundError: No module named 'scripts')\n",
            "/usr/bin/python3: Error while finding module specification for 'scripts.animate' (ModuleNotFoundError: No module named 'scripts')\n",
            "/bin/bash: -c: line 1: syntax error near unexpected token `('\n",
            "/bin/bash: -c: line 1: `python -m scripts.animate          --config /content/AnimateDiff/configs/prompts/v2/5-RealisticVision.yaml          --image_path \"/content/AnimateDiff/input_images/image_7 (1).png\"          --pretrained_model_path /content/AnimateDiff/models/DreamBooth_LoRA/v1-5-pruned-emaonly.safetensors          --motion_module /content/AnimateDiff/models/Motion_Module/mm_sd_v15_v2.ckpt          --L 16          --output /content/AnimateDiff/output_videos/image_7 (1).mp4'\n",
            "/usr/bin/python3: Error while finding module specification for 'scripts.animate' (ModuleNotFoundError: No module named 'scripts')\n",
            "/usr/bin/python3: Error while finding module specification for 'scripts.animate' (ModuleNotFoundError: No module named 'scripts')\n",
            "/bin/bash: -c: line 1: syntax error near unexpected token `('\n",
            "/bin/bash: -c: line 1: `python -m scripts.animate          --config /content/AnimateDiff/configs/prompts/v2/5-RealisticVision.yaml          --image_path \"/content/AnimateDiff/input_images/image_31 (1).png\"          --pretrained_model_path /content/AnimateDiff/models/DreamBooth_LoRA/v1-5-pruned-emaonly.safetensors          --motion_module /content/AnimateDiff/models/Motion_Module/mm_sd_v15_v2.ckpt          --L 16          --output /content/AnimateDiff/output_videos/image_31 (1).mp4'\n",
            "/bin/bash: -c: line 1: syntax error near unexpected token `('\n",
            "/bin/bash: -c: line 1: `python -m scripts.animate          --config /content/AnimateDiff/configs/prompts/v2/5-RealisticVision.yaml          --image_path \"/content/AnimateDiff/input_images/image_11 (1).png\"          --pretrained_model_path /content/AnimateDiff/models/DreamBooth_LoRA/v1-5-pruned-emaonly.safetensors          --motion_module /content/AnimateDiff/models/Motion_Module/mm_sd_v15_v2.ckpt          --L 16          --output /content/AnimateDiff/output_videos/image_11 (1).mp4'\n",
            "/usr/bin/python3: Error while finding module specification for 'scripts.animate' (ModuleNotFoundError: No module named 'scripts')\n",
            "/usr/bin/python3: Error while finding module specification for 'scripts.animate' (ModuleNotFoundError: No module named 'scripts')\n",
            "/bin/bash: -c: line 1: syntax error near unexpected token `('\n",
            "/bin/bash: -c: line 1: `python -m scripts.animate          --config /content/AnimateDiff/configs/prompts/v2/5-RealisticVision.yaml          --image_path \"/content/AnimateDiff/input_images/image_22 (1).png\"          --pretrained_model_path /content/AnimateDiff/models/DreamBooth_LoRA/v1-5-pruned-emaonly.safetensors          --motion_module /content/AnimateDiff/models/Motion_Module/mm_sd_v15_v2.ckpt          --L 16          --output /content/AnimateDiff/output_videos/image_22 (1).mp4'\n",
            "/usr/bin/python3: Error while finding module specification for 'scripts.animate' (ModuleNotFoundError: No module named 'scripts')\n",
            "/usr/bin/python3: Error while finding module specification for 'scripts.animate' (ModuleNotFoundError: No module named 'scripts')\n",
            "/bin/bash: -c: line 1: syntax error near unexpected token `('\n",
            "/bin/bash: -c: line 1: `python -m scripts.animate          --config /content/AnimateDiff/configs/prompts/v2/5-RealisticVision.yaml          --image_path \"/content/AnimateDiff/input_images/image_14 (1).png\"          --pretrained_model_path /content/AnimateDiff/models/DreamBooth_LoRA/v1-5-pruned-emaonly.safetensors          --motion_module /content/AnimateDiff/models/Motion_Module/mm_sd_v15_v2.ckpt          --L 16          --output /content/AnimateDiff/output_videos/image_14 (1).mp4'\n",
            "/bin/bash: -c: line 1: syntax error near unexpected token `('\n",
            "/bin/bash: -c: line 1: `python -m scripts.animate          --config /content/AnimateDiff/configs/prompts/v2/5-RealisticVision.yaml          --image_path \"/content/AnimateDiff/input_images/image_29 (1).png\"          --pretrained_model_path /content/AnimateDiff/models/DreamBooth_LoRA/v1-5-pruned-emaonly.safetensors          --motion_module /content/AnimateDiff/models/Motion_Module/mm_sd_v15_v2.ckpt          --L 16          --output /content/AnimateDiff/output_videos/image_29 (1).mp4'\n",
            "/bin/bash: -c: line 1: syntax error near unexpected token `('\n",
            "/bin/bash: -c: line 1: `python -m scripts.animate          --config /content/AnimateDiff/configs/prompts/v2/5-RealisticVision.yaml          --image_path \"/content/AnimateDiff/input_images/image_8 (1).png\"          --pretrained_model_path /content/AnimateDiff/models/DreamBooth_LoRA/v1-5-pruned-emaonly.safetensors          --motion_module /content/AnimateDiff/models/Motion_Module/mm_sd_v15_v2.ckpt          --L 16          --output /content/AnimateDiff/output_videos/image_8 (1).mp4'\n",
            "/bin/bash: -c: line 1: syntax error near unexpected token `('\n",
            "/bin/bash: -c: line 1: `python -m scripts.animate          --config /content/AnimateDiff/configs/prompts/v2/5-RealisticVision.yaml          --image_path \"/content/AnimateDiff/input_images/image_12 (1).png\"          --pretrained_model_path /content/AnimateDiff/models/DreamBooth_LoRA/v1-5-pruned-emaonly.safetensors          --motion_module /content/AnimateDiff/models/Motion_Module/mm_sd_v15_v2.ckpt          --L 16          --output /content/AnimateDiff/output_videos/image_12 (1).mp4'\n",
            "/usr/bin/python3: Error while finding module specification for 'scripts.animate' (ModuleNotFoundError: No module named 'scripts')\n",
            "/bin/bash: -c: line 1: syntax error near unexpected token `('\n",
            "/bin/bash: -c: line 1: `python -m scripts.animate          --config /content/AnimateDiff/configs/prompts/v2/5-RealisticVision.yaml          --image_path \"/content/AnimateDiff/input_images/image_32 (1).png\"          --pretrained_model_path /content/AnimateDiff/models/DreamBooth_LoRA/v1-5-pruned-emaonly.safetensors          --motion_module /content/AnimateDiff/models/Motion_Module/mm_sd_v15_v2.ckpt          --L 16          --output /content/AnimateDiff/output_videos/image_32 (1).mp4'\n",
            "/bin/bash: -c: line 1: syntax error near unexpected token `('\n",
            "/bin/bash: -c: line 1: `python -m scripts.animate          --config /content/AnimateDiff/configs/prompts/v2/5-RealisticVision.yaml          --image_path \"/content/AnimateDiff/input_images/image_23 (1).png\"          --pretrained_model_path /content/AnimateDiff/models/DreamBooth_LoRA/v1-5-pruned-emaonly.safetensors          --motion_module /content/AnimateDiff/models/Motion_Module/mm_sd_v15_v2.ckpt          --L 16          --output /content/AnimateDiff/output_videos/image_23 (1).mp4'\n",
            "/bin/bash: -c: line 1: syntax error near unexpected token `('\n",
            "/bin/bash: -c: line 1: `python -m scripts.animate          --config /content/AnimateDiff/configs/prompts/v2/5-RealisticVision.yaml          --image_path \"/content/AnimateDiff/input_images/image_0 (1).png\"          --pretrained_model_path /content/AnimateDiff/models/DreamBooth_LoRA/v1-5-pruned-emaonly.safetensors          --motion_module /content/AnimateDiff/models/Motion_Module/mm_sd_v15_v2.ckpt          --L 16          --output /content/AnimateDiff/output_videos/image_0 (1).mp4'\n",
            "/usr/bin/python3: Error while finding module specification for 'scripts.animate' (ModuleNotFoundError: No module named 'scripts')\n",
            "/usr/bin/python3: Error while finding module specification for 'scripts.animate' (ModuleNotFoundError: No module named 'scripts')\n",
            "/bin/bash: -c: line 1: syntax error near unexpected token `('\n",
            "/bin/bash: -c: line 1: `python -m scripts.animate          --config /content/AnimateDiff/configs/prompts/v2/5-RealisticVision.yaml          --image_path \"/content/AnimateDiff/input_images/image_2 (1).png\"          --pretrained_model_path /content/AnimateDiff/models/DreamBooth_LoRA/v1-5-pruned-emaonly.safetensors          --motion_module /content/AnimateDiff/models/Motion_Module/mm_sd_v15_v2.ckpt          --L 16          --output /content/AnimateDiff/output_videos/image_2 (1).mp4'\n",
            "/bin/bash: -c: line 1: syntax error near unexpected token `('\n",
            "/bin/bash: -c: line 1: `python -m scripts.animate          --config /content/AnimateDiff/configs/prompts/v2/5-RealisticVision.yaml          --image_path \"/content/AnimateDiff/input_images/image_16 (1).png\"          --pretrained_model_path /content/AnimateDiff/models/DreamBooth_LoRA/v1-5-pruned-emaonly.safetensors          --motion_module /content/AnimateDiff/models/Motion_Module/mm_sd_v15_v2.ckpt          --L 16          --output /content/AnimateDiff/output_videos/image_16 (1).mp4'\n",
            "/bin/bash: -c: line 1: syntax error near unexpected token `('\n",
            "/bin/bash: -c: line 1: `python -m scripts.animate          --config /content/AnimateDiff/configs/prompts/v2/5-RealisticVision.yaml          --image_path \"/content/AnimateDiff/input_images/image_6 (1).png\"          --pretrained_model_path /content/AnimateDiff/models/DreamBooth_LoRA/v1-5-pruned-emaonly.safetensors          --motion_module /content/AnimateDiff/models/Motion_Module/mm_sd_v15_v2.ckpt          --L 16          --output /content/AnimateDiff/output_videos/image_6 (1).mp4'\n",
            "/bin/bash: -c: line 1: syntax error near unexpected token `('\n",
            "/bin/bash: -c: line 1: `python -m scripts.animate          --config /content/AnimateDiff/configs/prompts/v2/5-RealisticVision.yaml          --image_path \"/content/AnimateDiff/input_images/image_20 (1).png\"          --pretrained_model_path /content/AnimateDiff/models/DreamBooth_LoRA/v1-5-pruned-emaonly.safetensors          --motion_module /content/AnimateDiff/models/Motion_Module/mm_sd_v15_v2.ckpt          --L 16          --output /content/AnimateDiff/output_videos/image_20 (1).mp4'\n",
            "/usr/bin/python3: Error while finding module specification for 'scripts.animate' (ModuleNotFoundError: No module named 'scripts')\n",
            "/bin/bash: -c: line 1: syntax error near unexpected token `('\n",
            "/bin/bash: -c: line 1: `python -m scripts.animate          --config /content/AnimateDiff/configs/prompts/v2/5-RealisticVision.yaml          --image_path \"/content/AnimateDiff/input_images/image_15 (1).png\"          --pretrained_model_path /content/AnimateDiff/models/DreamBooth_LoRA/v1-5-pruned-emaonly.safetensors          --motion_module /content/AnimateDiff/models/Motion_Module/mm_sd_v15_v2.ckpt          --L 16          --output /content/AnimateDiff/output_videos/image_15 (1).mp4'\n",
            "/usr/bin/python3: Error while finding module specification for 'scripts.animate' (ModuleNotFoundError: No module named 'scripts')\n",
            "/bin/bash: -c: line 1: syntax error near unexpected token `('\n",
            "/bin/bash: -c: line 1: `python -m scripts.animate          --config /content/AnimateDiff/configs/prompts/v2/5-RealisticVision.yaml          --image_path \"/content/AnimateDiff/input_images/image_3 (1).png\"          --pretrained_model_path /content/AnimateDiff/models/DreamBooth_LoRA/v1-5-pruned-emaonly.safetensors          --motion_module /content/AnimateDiff/models/Motion_Module/mm_sd_v15_v2.ckpt          --L 16          --output /content/AnimateDiff/output_videos/image_3 (1).mp4'\n",
            "/bin/bash: -c: line 1: syntax error near unexpected token `('\n",
            "/bin/bash: -c: line 1: `python -m scripts.animate          --config /content/AnimateDiff/configs/prompts/v2/5-RealisticVision.yaml          --image_path \"/content/AnimateDiff/input_images/image_9 (1).png\"          --pretrained_model_path /content/AnimateDiff/models/DreamBooth_LoRA/v1-5-pruned-emaonly.safetensors          --motion_module /content/AnimateDiff/models/Motion_Module/mm_sd_v15_v2.ckpt          --L 16          --output /content/AnimateDiff/output_videos/image_9 (1).mp4'\n",
            "/bin/bash: -c: line 1: syntax error near unexpected token `('\n",
            "/bin/bash: -c: line 1: `python -m scripts.animate          --config /content/AnimateDiff/configs/prompts/v2/5-RealisticVision.yaml          --image_path \"/content/AnimateDiff/input_images/image_13 (1).png\"          --pretrained_model_path /content/AnimateDiff/models/DreamBooth_LoRA/v1-5-pruned-emaonly.safetensors          --motion_module /content/AnimateDiff/models/Motion_Module/mm_sd_v15_v2.ckpt          --L 16          --output /content/AnimateDiff/output_videos/image_13 (1).mp4'\n",
            "/usr/bin/python3: Error while finding module specification for 'scripts.animate' (ModuleNotFoundError: No module named 'scripts')\n",
            "/usr/bin/python3: Error while finding module specification for 'scripts.animate' (ModuleNotFoundError: No module named 'scripts')\n",
            "/usr/bin/python3: Error while finding module specification for 'scripts.animate' (ModuleNotFoundError: No module named 'scripts')\n",
            "/usr/bin/python3: Error while finding module specification for 'scripts.animate' (ModuleNotFoundError: No module named 'scripts')\n",
            "/bin/bash: -c: line 1: syntax error near unexpected token `('\n",
            "/bin/bash: -c: line 1: `python -m scripts.animate          --config /content/AnimateDiff/configs/prompts/v2/5-RealisticVision.yaml          --image_path \"/content/AnimateDiff/input_images/image_28 (1).png\"          --pretrained_model_path /content/AnimateDiff/models/DreamBooth_LoRA/v1-5-pruned-emaonly.safetensors          --motion_module /content/AnimateDiff/models/Motion_Module/mm_sd_v15_v2.ckpt          --L 16          --output /content/AnimateDiff/output_videos/image_28 (1).mp4'\n",
            "/bin/bash: -c: line 1: syntax error near unexpected token `('\n",
            "/bin/bash: -c: line 1: `python -m scripts.animate          --config /content/AnimateDiff/configs/prompts/v2/5-RealisticVision.yaml          --image_path \"/content/AnimateDiff/input_images/image_1 (1).png\"          --pretrained_model_path /content/AnimateDiff/models/DreamBooth_LoRA/v1-5-pruned-emaonly.safetensors          --motion_module /content/AnimateDiff/models/Motion_Module/mm_sd_v15_v2.ckpt          --L 16          --output /content/AnimateDiff/output_videos/image_1 (1).mp4'\n"
          ]
        }
      ]
    }
  ],
  "metadata": {
    "accelerator": "GPU",
    "colab": {
      "gpuType": "T4",
      "provenance": [],
      "include_colab_link": true
    },
    "kernelspec": {
      "display_name": "Python 3",
      "name": "python3"
    },
    "language_info": {
      "name": "python"
    }
  },
  "nbformat": 4,
  "nbformat_minor": 0
}