{
  "cells": [
    {
      "cell_type": "markdown",
      "metadata": {
        "id": "view-in-github",
        "colab_type": "text"
      },
      "source": [
        "<a href=\"https://colab.research.google.com/github/prabhkaur119/notebooks/blob/main/stable_video_diffusion_fp16_colab.ipynb\" target=\"_parent\"><img src=\"https://colab.research.google.com/assets/colab-badge.svg\" alt=\"Open In Colab\"/></a>"
      ]
    },
    {
      "cell_type": "code",
      "source": [
        "# Cleanup old files\n",
        "!rm -rf /content/generative-models"
      ],
      "metadata": {
        "id": "Naghf-DmH4s1"
      },
      "execution_count": 1,
      "outputs": []
    },
    {
      "cell_type": "code",
      "source": [
        "# Install core dependencies\n",
        "!pip install -q omegaconf tokenizers==0.13.3 torchvision"
      ],
      "metadata": {
        "collapsed": true,
        "id": "HvxyEetyH6-8"
      },
      "execution_count": null,
      "outputs": []
    },
    {
      "cell_type": "code",
      "source": [
        "from google.colab import drive\n",
        "drive.mount('/content/drive')"
      ],
      "metadata": {
        "id": "taYBebkmPrdy"
      },
      "execution_count": null,
      "outputs": []
    },
    {
      "cell_type": "code",
      "source": [
        "# Install SVD-specific packages\n",
        "!pip install -q git+https://github.com/Stability-AI/generative-models"
      ],
      "metadata": {
        "collapsed": true,
        "id": "CN90nP4_H9aA"
      },
      "execution_count": null,
      "outputs": []
    },
    {
      "cell_type": "code",
      "source": [
        "import os\n",
        "import torch\n",
        "from huggingface_hub import snapshot_download\n",
        "\n",
        "# Download SVD model\n",
        "model_path = snapshot_download(\"stabilityai/stable-video-diffusion-img2vid-xt\", local_dir=\"/content/models\")\n",
        "\n",
        "# Generate a video\n",
        "!python -m scripts.sample --config=configs/svd.yaml --ckpt_path=\"/content/models/svd_xt.safetensors\" --input_path=\"/content/input_image.png\" --output_dir=\"/content/output\""
      ],
      "metadata": {
        "collapsed": true,
        "id": "y9xoNKWlJiVn"
      },
      "execution_count": null,
      "outputs": []
    }
  ],
  "metadata": {
    "accelerator": "GPU",
    "colab": {
      "gpuType": "T4",
      "provenance": [],
      "include_colab_link": true
    },
    "kernelspec": {
      "display_name": "Python 3",
      "name": "python3"
    },
    "language_info": {
      "name": "python"
    }
  },
  "nbformat": 4,
  "nbformat_minor": 0
}