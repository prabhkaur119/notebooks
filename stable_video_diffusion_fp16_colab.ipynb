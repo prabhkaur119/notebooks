{
  "cells": [
    {
      "cell_type": "markdown",
      "metadata": {
        "id": "view-in-github",
        "colab_type": "text"
      },
      "source": [
        "<a href=\"https://colab.research.google.com/github/prabhkaur119/notebooks/blob/main/stable_video_diffusion_fp16_colab.ipynb\" target=\"_parent\"><img src=\"https://colab.research.google.com/assets/colab-badge.svg\" alt=\"Open In Colab\"/></a>"
      ]
    },
    {
      "cell_type": "code",
      "source": [
        "!pip install --upgrade transformers"
      ],
      "metadata": {
        "id": "uInGw3tWb-4v",
        "outputId": "3ccca708-1247-4eec-83c8-8bcdae5e7ce6",
        "colab": {
          "base_uri": "https://localhost:8080/"
        }
      },
      "execution_count": 1,
      "outputs": [
        {
          "output_type": "stream",
          "name": "stdout",
          "text": [
            "Requirement already satisfied: transformers in /usr/local/lib/python3.11/dist-packages (4.51.3)\n",
            "Requirement already satisfied: filelock in /usr/local/lib/python3.11/dist-packages (from transformers) (3.18.0)\n",
            "Requirement already satisfied: huggingface-hub<1.0,>=0.30.0 in /usr/local/lib/python3.11/dist-packages (from transformers) (0.30.2)\n",
            "Requirement already satisfied: numpy>=1.17 in /usr/local/lib/python3.11/dist-packages (from transformers) (2.0.2)\n",
            "Requirement already satisfied: packaging>=20.0 in /usr/local/lib/python3.11/dist-packages (from transformers) (24.2)\n",
            "Requirement already satisfied: pyyaml>=5.1 in /usr/local/lib/python3.11/dist-packages (from transformers) (6.0.2)\n",
            "Requirement already satisfied: regex!=2019.12.17 in /usr/local/lib/python3.11/dist-packages (from transformers) (2024.11.6)\n",
            "Requirement already satisfied: requests in /usr/local/lib/python3.11/dist-packages (from transformers) (2.32.3)\n",
            "Requirement already satisfied: tokenizers<0.22,>=0.21 in /usr/local/lib/python3.11/dist-packages (from transformers) (0.21.1)\n",
            "Requirement already satisfied: safetensors>=0.4.3 in /usr/local/lib/python3.11/dist-packages (from transformers) (0.5.3)\n",
            "Requirement already satisfied: tqdm>=4.27 in /usr/local/lib/python3.11/dist-packages (from transformers) (4.67.1)\n",
            "Requirement already satisfied: fsspec>=2023.5.0 in /usr/local/lib/python3.11/dist-packages (from huggingface-hub<1.0,>=0.30.0->transformers) (2025.3.2)\n",
            "Requirement already satisfied: typing-extensions>=3.7.4.3 in /usr/local/lib/python3.11/dist-packages (from huggingface-hub<1.0,>=0.30.0->transformers) (4.13.2)\n",
            "Requirement already satisfied: charset-normalizer<4,>=2 in /usr/local/lib/python3.11/dist-packages (from requests->transformers) (3.4.1)\n",
            "Requirement already satisfied: idna<4,>=2.5 in /usr/local/lib/python3.11/dist-packages (from requests->transformers) (3.10)\n",
            "Requirement already satisfied: urllib3<3,>=1.21.1 in /usr/local/lib/python3.11/dist-packages (from requests->transformers) (2.4.0)\n",
            "Requirement already satisfied: certifi>=2017.4.17 in /usr/local/lib/python3.11/dist-packages (from requests->transformers) (2025.4.26)\n"
          ]
        }
      ]
    },
    {
      "cell_type": "code",
      "source": [
        "import torch\n",
        "from diffusers import StableDiffusionXLPipeline, StableDiffusionXLImg2ImgPipeline\n",
        "from PIL import Image\n",
        "import os"
      ],
      "metadata": {
        "id": "jaz5mw_Keixl"
      },
      "execution_count": 2,
      "outputs": []
    },
    {
      "cell_type": "code",
      "source": [
        "# Create directory for images\n",
        "os.makedirs(\"/content/sdxl_images\", exist_ok=True)"
      ],
      "metadata": {
        "id": "371f3UkAmhFB"
      },
      "execution_count": 3,
      "outputs": []
    },
    {
      "cell_type": "code",
      "source": [
        "# Load base model\n",
        "pipe = StableDiffusionXLPipeline.from_pretrained(\n",
        "    \"stabilityai/stable-diffusion-xl-base-1.0\",\n",
        "    torch_dtype=torch.float16,\n",
        "    variant=\"fp16\",\n",
        "    use_safetensors=True\n",
        ").to(\"cuda\")"
      ],
      "metadata": {
        "id": "NOqTzPV8mkeQ"
      },
      "execution_count": null,
      "outputs": []
    },
    {
      "cell_type": "code",
      "source": [
        "# Enable memory optimizations\n",
        "pipe.enable_model_cpu_offload()\n",
        "pipe.enable_vae_slicing()"
      ],
      "metadata": {
        "id": "CCob71r1oidy"
      },
      "execution_count": 5,
      "outputs": []
    },
    {
      "cell_type": "code",
      "source": [
        "# Modified pipeline with realism focus\n",
        "realistic_pipe = StableDiffusionXLPipeline.from_pretrained(\n",
        "    \"stabilityai/stable-diffusion-xl-base-1.0\",\n",
        "    torch_dtype=torch.float16\n",
        ").to(\"cuda\")\n",
        "\n",
        "# Hyperparameters for realism\n",
        "realism_prompt = \"photorealistic, 8K UHD, DSLR, high detail, \" + prompt\n",
        "negative_prompt = \"cartoon, 3d, digital art, anime, painting\"\n",
        "\n",
        "image = realistic_pipe(\n",
        "    prompt=realism_prompt,\n",
        "    negative_prompt=negative_prompt,\n",
        "    width=1024 if has_memory else 768,\n",
        "    num_inference_steps=40,\n",
        "    guidance_scale=8.5\n",
        ").images[0]"
      ],
      "metadata": {
        "id": "dZ7kay_ByBf4"
      },
      "execution_count": null,
      "outputs": []
    },
    {
      "cell_type": "code",
      "source": [
        "# Your prompts (first 3 for demo - remove [0:3] to generate more)\n",
        "prompts = [\"A dragon sleeping on a pile of golden coins inside a cave\", \"A fairy queen in a glowing forest at night\", \"A medieval knight riding a unicorn through the mist\", \"A wizard casting a spell with glowing runes around him\", \"An enchanted castle floating in the sky\", \"A mermaid sitting on a rock during a stormy sunset\", \"A phoenix rising from ashes in a dark forest\", \"A battle between gods on top of a mountain\", \"A dwarven blacksmith forging a glowing magical sword\", \"A portal opening in the middle of a peaceful village\", \"A cyberpunk cityscape at night with neon lights and flying cars\", \"A humanoid robot walking through a deserted alien planet\", \"A space station orbiting Saturn\", \"An astronaut discovering an ancient alien artifact\", \"A futuristic soldier in an exosuit overlooking a battlefield\", \"A city on Mars with domes and red desert in the background\", \"A post-apocalyptic street filled with overgrown plants\", \"A spaceship docking at a high-tech interstellar hub\", \"A holographic teacher in a virtual classroom\", \"A biotech laboratory filled with glowing blue liquid tanks\", \"A sunrise over misty mountains and a serene lake\", \"A dense jungle with ancient ruins hidden inside\", \"A field of lavender under a starry sky\", \"A desert canyon during golden hour\", \"A snowy forest with northern lights above\", \"A tropical beach with turquoise waters and palm trees\", \"A quiet waterfall deep in the forest\", \"A volcanic eruption seen from a nearby village\", \"A rice terrace farm at sunset in Southeast Asia\", \"A storm approaching over an empty prairie\", \"A staircase leading to the clouds in a blue sky\", \"A whale floating above a city skyline\", \"A man with a clock for a face sitting in a desert\", \"A city made entirely of glass and light\", \"A forest where trees grow upside down\", \"A dreamscape where the ocean meets the stars\", \"A girl holding an umbrella raining fish\", \"A landscape where time stands still and objects float\", \"A bridge connecting two floating islands in space\", \"A surreal carnival with melting rides\", \"A steampunk inventor with mechanical arms\", \"A cyberpunk girl with neon tattoos and LED hair\", \"A samurai warrior under cherry blossoms\", \"A pirate queen with a mechanical parrot\", \"A Victorian lady with a floral hat and soft expression\", \"A cowboy walking into a dusty sunset\", \"A vampire aristocrat in a gothic mansion\", \"An alien with translucent skin and glowing eyes\", \"A medieval healer holding herbs in a forest\", \"A warrior monk with a staff standing in a temple\", \"A futuristic skyscraper with organic shapes and glowing windows\", \"An abandoned gothic cathedral overgrown with ivy\", \"A medieval town square during a festival\", \"A Venetian canal at dusk with reflections in the water\", \"A Moroccan marketplace bustling with color\", \"A Nordic village by the fjords during winter\", \"A giant tree with houses built in its branches\", \"An art deco building in the middle of a retro-futuristic city\", \"A Greek temple on a cliff above the sea\", \"A utopian city floating in the sky\", \"A white tiger walking through a bamboo forest\", \"A golden retriever astronaut on the moon\", \"A chameleon blending into a rainbow jungle\", \"An owl with galaxy patterns on its feathers\", \"A mechanical wolf with glowing red eyes\", \"A family of foxes playing under falling leaves\", \"A jellyfish with bioluminescent tentacles in deep sea\", \"A peacock spreading feathers made of stars\", \"A horse galloping through a thunderstorm\", \"A panda sitting in a zen garden\", \"An ancient Egyptian priest standing beside a pyramid\", \"A Roman centurion preparing for battle\", \"A traditional Japanese tea ceremony in a wooden room\", \"A Viking ship sailing under a red sky\", \"A Renaissance painter working in a candle-lit studio\", \"A traditional Indian wedding procession with elephants\", \"A Native American dancer in ceremonial attire\", \"A medieval market with traders and musicians\", \"An old Chinese scholar writing poetry by candlelight\", \"A jazz band playing in a 1920s speakeasy\"]\n",
        "\n",
        "# Negative prompt to avoid common issues\n",
        "negative_prompt = \"blurry, deformed, extra limbs, text, watermark, low quality\"\n",
        "\n",
        "for i, prompt in enumerate(prompts):\n",
        "    print(f\"Generating image {i+1}/{len(prompts)}: {prompt[:50]}...\")\n",
        "\n",
        "    try:\n",
        "        # Generate image with reduced memory footprint\n",
        "        image = pipe(\n",
        "            prompt=prompt,\n",
        "            negative_prompt=negative_prompt,\n",
        "            width=768,  # Reduced from 1024 to save memory\n",
        "            height=768,\n",
        "            num_inference_steps=25,  # Reduced from 30\n",
        "            guidance_scale=7.5  # Standard value\n",
        "        ).images[0]\n",
        "        # Save image\n",
        "        image.save(f\"/content/sdxl_images/image_{i}.png\")\n",
        "        print(f\"Successfully generated image {i+1}\")\n",
        "\n",
        "        # Clear memory\n",
        "        torch.cuda.empty_cache()\n",
        "\n",
        "    except Exception as e:\n",
        "        print(f\"Failed to generate image {i+1}: {str(e)}\")\n",
        "        continue\n",
        "\n",
        "# Display first image if available\n",
        "if os.path.exists(\"/content/sdxl_images/image_0.png\"):\n",
        "    display(Image.open(\"/content/sdxl_images/image_0.png\"))\n",
        "\n",
        "# Zip all images for download\n",
        "!zip -r /content/sdxl_images.zip /content/sdxl_images\n",
        "\n",
        "print(\"\\nDone! Download your images:\")\n",
        "from google.colab import files\n",
        "files.download(\"/content/sdxl_images.zip\")"
      ],
      "metadata": {
        "id": "OsyOMUUV4rxC"
      },
      "execution_count": null,
      "outputs": []
    }
  ],
  "metadata": {
    "accelerator": "GPU",
    "colab": {
      "gpuType": "T4",
      "provenance": [],
      "include_colab_link": true
    },
    "kernelspec": {
      "display_name": "Python 3",
      "name": "python3"
    },
    "language_info": {
      "name": "python"
    }
  },
  "nbformat": 4,
  "nbformat_minor": 0
}